{
 "cells": [
  {
   "cell_type": "markdown",
   "metadata": {},
   "source": [
    "# Extraindo validade dos pdfs de Gêneros Alimentícios"
   ]
  },
  {
   "cell_type": "markdown",
   "metadata": {},
   "source": [
    "### Esse notebook tem o objetivo de:\n",
    "    - [X] Extrair a validade indicada nos pdfs\n",
    "    - [X] Padronizar o formato para ISO8601 de intervalo temporal\n",
    "    - [X] Criar uma função :: Path -> str que automatiza esse processo"
   ]
  },
  {
   "cell_type": "markdown",
   "metadata": {},
   "source": [
    "### Prerequisitos:\n",
    "    - [X] Baixar pelo menos um PDF para referencia"
   ]
  },
  {
   "cell_type": "code",
   "execution_count": 5,
   "metadata": {},
   "outputs": [],
   "source": [
    "PDF = '../data/pdfs/generos-alimenticios/ARQUIVOPARAPORTAL.pdf'"
   ]
  },
  {
   "cell_type": "code",
   "execution_count": 6,
   "metadata": {},
   "outputs": [],
   "source": [
    "import sys\n",
    "sys.path.insert(0, '..')\n",
    "from IPython.display import HTML"
   ]
  },
  {
   "cell_type": "code",
   "execution_count": 7,
   "metadata": {},
   "outputs": [
    {
     "data": {
      "text/html": [
       "\n",
       "<iframe\n",
       "    src=\"../data/pdfs/generos-alimenticios/ARQUIVOPARAPORTAL.pdf#page=0\"\n",
       "    width=100%\n",
       "    height=400\n",
       "    >\n",
       "</iframe>\n"
      ],
      "text/plain": [
       "<IPython.core.display.HTML object>"
      ]
     },
     "execution_count": 7,
     "metadata": {},
     "output_type": "execute_result"
    }
   ],
   "source": [
    "HTML(f'''\n",
    "<iframe\n",
    "    src=\"{PDF}#page=0\"\n",
    "    width=100%\n",
    "    height=400\n",
    "    >\n",
    "</iframe>\n",
    "''')"
   ]
  },
  {
   "cell_type": "code",
   "execution_count": 9,
   "metadata": {},
   "outputs": [],
   "source": [
    "import re\n",
    "from datetime import datetime\n",
    "from PyPDF2 import PdfFileReader"
   ]
  },
  {
   "cell_type": "markdown",
   "metadata": {},
   "source": [
    "## Extrai o texto da página 0"
   ]
  },
  {
   "cell_type": "code",
   "execution_count": 22,
   "metadata": {},
   "outputs": [
    {
     "data": {
      "text/plain": [
       "['CONTROLADORIA GERAL DO MUNICÍPIO',\n",
       " 'http://www7.rio.rj.gov.br/cgm/tabelas/',\n",
       " 'VALIDADE:    01/03/2017    a    15/03/2017',\n",
       " 'ORD',\n",
       " 'CÓDIGO',\n",
       " 'GÊNEROS ALIMENTÍCIOS',\n",
       " 'UNIDADE',\n",
       " 'VALOR - R$',\n",
       " '1',\n",
       " '8905.01.001-40']"
      ]
     },
     "execution_count": 22,
     "metadata": {},
     "output_type": "execute_result"
    }
   ],
   "source": [
    "text_p0 = PdfFileReader(PDF).getPage(0).extractText()\n",
    "text_p0.split('\\n')[:10]"
   ]
  },
  {
   "cell_type": "markdown",
   "metadata": {},
   "source": [
    "## Isola a parte que tem a validade"
   ]
  },
  {
   "cell_type": "code",
   "execution_count": 30,
   "metadata": {},
   "outputs": [
    {
     "data": {
      "text/plain": [
       "'01/03/2017    a    15/03/2017'"
      ]
     },
     "execution_count": 30,
     "metadata": {},
     "output_type": "execute_result"
    }
   ],
   "source": [
    "validade = re.findall(r'validade.*?(\\d.+\\d)',\n",
    "                      text_p0,\n",
    "                      flags=re.I\n",
    "                      )[0]\n",
    "validade"
   ]
  },
  {
   "cell_type": "code",
   "execution_count": 31,
   "metadata": {},
   "outputs": [
    {
     "data": {
      "text/plain": [
       "('01/03/2017   ', '   15/03/2017')"
      ]
     },
     "execution_count": 31,
     "metadata": {},
     "output_type": "execute_result"
    }
   ],
   "source": [
    "start, end = validade.split(' a ')\n",
    "start, end"
   ]
  },
  {
   "cell_type": "code",
   "execution_count": 32,
   "metadata": {},
   "outputs": [
    {
     "data": {
      "text/plain": [
       "('01/03/2017', '15/03/2017')"
      ]
     },
     "execution_count": 32,
     "metadata": {},
     "output_type": "execute_result"
    }
   ],
   "source": [
    "start, end = start.replace(' ', ''), end.replace(' ', '')\n",
    "start, end"
   ]
  },
  {
   "cell_type": "markdown",
   "metadata": {},
   "source": [
    "## Normaliza o formato"
   ]
  },
  {
   "cell_type": "code",
   "execution_count": 33,
   "metadata": {},
   "outputs": [
    {
     "data": {
      "text/plain": [
       "('2017-03-01', '2017-03-15')"
      ]
     },
     "execution_count": 33,
     "metadata": {},
     "output_type": "execute_result"
    }
   ],
   "source": [
    "start = (datetime\n",
    "         .strptime(start, '%d/%m/%Y')\n",
    "         .strftime('%Y-%m-%d'))\n",
    "end   = (datetime\n",
    "         .strptime(end, '%d/%m/%Y')\n",
    "         .strftime('%Y-%m-%d'))\n",
    "\n",
    "start, end"
   ]
  },
  {
   "cell_type": "code",
   "execution_count": 34,
   "metadata": {},
   "outputs": [
    {
     "data": {
      "text/plain": [
       "'2017-03-01/2017-03-15'"
      ]
     },
     "execution_count": 34,
     "metadata": {},
     "output_type": "execute_result"
    }
   ],
   "source": [
    "timespan = '/'.join((start, end))\n",
    "timespan"
   ]
  },
  {
   "cell_type": "markdown",
   "metadata": {},
   "source": [
    "## Fatorar numa função"
   ]
  },
  {
   "cell_type": "code",
   "execution_count": 35,
   "metadata": {},
   "outputs": [],
   "source": [
    "# Returns ISO8601 time interval\n",
    "def extract_validity(path : str) -> str:\n",
    "    # open and extract first page text\n",
    "    text_p0 = PdfFileReader(path).getPage(0).extractText()\n",
    "\n",
    "    # returns like: '16/09/2017    a    30/09/2017'\n",
    "    validade = re.findall(r'validade.*?(\\d.+\\d)', text_p0, flags=re.I)[0]\n",
    "\n",
    "    # ['16/09/2017', 'a', '30/09/2017']\n",
    "    start, end = validade.split(' a ')\n",
    "    start = start.replace(' ', '')\n",
    "    end   = end.replace(' ', '')\n",
    "\n",
    "    # convert to ISO8601 date format\n",
    "    start = datetime.strptime(start, '%d/%m/%Y').strftime('%Y-%m-%d')\n",
    "    end   = datetime.strptime(end, '%d/%m/%Y').strftime('%Y-%m-%d')\n",
    "\n",
    "    # ISO ISO8601 time interval format\n",
    "    return '/'.join((start, end))"
   ]
  },
  {
   "cell_type": "code",
   "execution_count": 36,
   "metadata": {},
   "outputs": [
    {
     "data": {
      "text/plain": [
       "'2017-03-01/2017-03-15'"
      ]
     },
     "execution_count": 36,
     "metadata": {},
     "output_type": "execute_result"
    }
   ],
   "source": [
    "extract_validity(PDF)"
   ]
  },
  {
   "cell_type": "code",
   "execution_count": null,
   "metadata": {},
   "outputs": [],
   "source": []
  }
 ],
 "metadata": {
  "kernelspec": {
   "display_name": "Python 3",
   "language": "python",
   "name": "python3"
  },
  "language_info": {
   "codemirror_mode": {
    "name": "ipython",
    "version": 3
   },
   "file_extension": ".py",
   "mimetype": "text/x-python",
   "name": "python",
   "nbconvert_exporter": "python",
   "pygments_lexer": "ipython3",
   "version": "3.6.3"
  }
 },
 "nbformat": 4,
 "nbformat_minor": 2
}
